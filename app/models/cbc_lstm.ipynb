{
 "cells": [
  {
   "cell_type": "markdown",
   "id": "d206bdb3",
   "metadata": {},
   "source": [
    "## 📦 Import dependencies\n"
   ]
  },
  {
   "cell_type": "code",
   "execution_count": null,
   "id": "df5ecc26",
   "metadata": {},
   "outputs": [],
   "source": [
    "\n",
    "import numpy as np\n",
    "import pandas as pd\n",
    "import tensorflow as tf\n",
    "from tensorflow.keras import layers, models\n",
    "import matplotlib.pyplot as plt\n",
    "import seaborn as sns\n",
    "from sklearn.preprocessing import MinMaxScaler\n",
    "from sklearn.model_selection import train_test_split\n"
   ]
  },
  {
   "cell_type": "markdown",
   "id": "59e94f69",
   "metadata": {},
   "source": [
    "## 📊 Load dataset\n"
   ]
  },
  {
   "cell_type": "code",
   "execution_count": null,
   "id": "574a798a",
   "metadata": {},
   "outputs": [
    {
     "name": "stdout",
     "output_type": "stream",
     "text": [
      "Shape: (220, 14)\n"
     ]
    },
    {
     "data": {
      "text/html": [
       "<div>\n",
       "<style scoped>\n",
       "    .dataframe tbody tr th:only-of-type {\n",
       "        vertical-align: middle;\n",
       "    }\n",
       "\n",
       "    .dataframe tbody tr th {\n",
       "        vertical-align: top;\n",
       "    }\n",
       "\n",
       "    .dataframe thead th {\n",
       "        text-align: right;\n",
       "    }\n",
       "</style>\n",
       "<table border=\"1\" class=\"dataframe\">\n",
       "  <thead>\n",
       "    <tr style=\"text-align: right;\">\n",
       "      <th></th>\n",
       "      <th>ord-0001</th>\n",
       "      <th>pat-001</th>\n",
       "      <th>32</th>\n",
       "      <th>M</th>\n",
       "      <th>fac-01</th>\n",
       "      <th>2025-10-04T10:30:00Z</th>\n",
       "      <th>0.61</th>\n",
       "      <th>0.4</th>\n",
       "      <th>0.7</th>\n",
       "      <th>0.61.1</th>\n",
       "      <th>0.63</th>\n",
       "      <th>0.83</th>\n",
       "      <th>0.64</th>\n",
       "      <th>0.54</th>\n",
       "    </tr>\n",
       "  </thead>\n",
       "  <tbody>\n",
       "    <tr>\n",
       "      <th>42745f49-6912-4f80-8489-a6cef1456d7c</th>\n",
       "      <td>ord-a66e46d2</td>\n",
       "      <td>pat-b61c5393</td>\n",
       "      <td>38</td>\n",
       "      <td>F</td>\n",
       "      <td>fac-01</td>\n",
       "      <td>2025-10-04T10:30:00Z</td>\n",
       "      <td>0.506</td>\n",
       "      <td>0.407</td>\n",
       "      <td>0.772</td>\n",
       "      <td>0.741</td>\n",
       "      <td>0.635</td>\n",
       "      <td>0.862</td>\n",
       "      <td>0.625</td>\n",
       "      <td>0.528</td>\n",
       "    </tr>\n",
       "    <tr>\n",
       "      <th>1e48e307-06fc-44fe-a10e-18c605ca46b4</th>\n",
       "      <td>ord-f7b49269</td>\n",
       "      <td>pat-95d4f4d9</td>\n",
       "      <td>65</td>\n",
       "      <td>F</td>\n",
       "      <td>fac-02</td>\n",
       "      <td>2025-10-05T10:30:00Z</td>\n",
       "      <td>0.512</td>\n",
       "      <td>0.469</td>\n",
       "      <td>0.808</td>\n",
       "      <td>0.744</td>\n",
       "      <td>0.640</td>\n",
       "      <td>0.885</td>\n",
       "      <td>0.689</td>\n",
       "      <td>0.502</td>\n",
       "    </tr>\n",
       "    <tr>\n",
       "      <th>6fabc304-e832-489d-ac31-b8fd0e419f09</th>\n",
       "      <td>ord-35332555</td>\n",
       "      <td>pat-fc534ea6</td>\n",
       "      <td>39</td>\n",
       "      <td>M</td>\n",
       "      <td>fac-03</td>\n",
       "      <td>2025-10-06T10:30:00Z</td>\n",
       "      <td>0.567</td>\n",
       "      <td>0.542</td>\n",
       "      <td>0.840</td>\n",
       "      <td>0.701</td>\n",
       "      <td>0.656</td>\n",
       "      <td>0.824</td>\n",
       "      <td>0.673</td>\n",
       "      <td>0.536</td>\n",
       "    </tr>\n",
       "    <tr>\n",
       "      <th>69a6ab94-81ab-43cf-aeb7-8eca452dc126</th>\n",
       "      <td>ord-139be45f</td>\n",
       "      <td>pat-93eb529b</td>\n",
       "      <td>56</td>\n",
       "      <td>F</td>\n",
       "      <td>fac-01</td>\n",
       "      <td>2025-10-07T10:30:00Z</td>\n",
       "      <td>0.639</td>\n",
       "      <td>0.488</td>\n",
       "      <td>0.709</td>\n",
       "      <td>0.698</td>\n",
       "      <td>0.605</td>\n",
       "      <td>0.835</td>\n",
       "      <td>0.639</td>\n",
       "      <td>0.540</td>\n",
       "    </tr>\n",
       "    <tr>\n",
       "      <th>86d7bcf9-56d9-429d-aacf-cbd08028b304</th>\n",
       "      <td>ord-d0d9dd05</td>\n",
       "      <td>pat-a48e51da</td>\n",
       "      <td>48</td>\n",
       "      <td>M</td>\n",
       "      <td>fac-03</td>\n",
       "      <td>2025-10-08T10:30:00Z</td>\n",
       "      <td>0.564</td>\n",
       "      <td>0.479</td>\n",
       "      <td>0.827</td>\n",
       "      <td>0.740</td>\n",
       "      <td>0.615</td>\n",
       "      <td>0.803</td>\n",
       "      <td>0.654</td>\n",
       "      <td>0.563</td>\n",
       "    </tr>\n",
       "  </tbody>\n",
       "</table>\n",
       "</div>"
      ],
      "text/plain": [
       "                                          ord-0001       pat-001  32  M  \\\n",
       "42745f49-6912-4f80-8489-a6cef1456d7c  ord-a66e46d2  pat-b61c5393  38  F   \n",
       "1e48e307-06fc-44fe-a10e-18c605ca46b4  ord-f7b49269  pat-95d4f4d9  65  F   \n",
       "6fabc304-e832-489d-ac31-b8fd0e419f09  ord-35332555  pat-fc534ea6  39  M   \n",
       "69a6ab94-81ab-43cf-aeb7-8eca452dc126  ord-139be45f  pat-93eb529b  56  F   \n",
       "86d7bcf9-56d9-429d-aacf-cbd08028b304  ord-d0d9dd05  pat-a48e51da  48  M   \n",
       "\n",
       "                                      fac-01  2025-10-04T10:30:00Z   0.61  \\\n",
       "42745f49-6912-4f80-8489-a6cef1456d7c  fac-01  2025-10-04T10:30:00Z  0.506   \n",
       "1e48e307-06fc-44fe-a10e-18c605ca46b4  fac-02  2025-10-05T10:30:00Z  0.512   \n",
       "6fabc304-e832-489d-ac31-b8fd0e419f09  fac-03  2025-10-06T10:30:00Z  0.567   \n",
       "69a6ab94-81ab-43cf-aeb7-8eca452dc126  fac-01  2025-10-07T10:30:00Z  0.639   \n",
       "86d7bcf9-56d9-429d-aacf-cbd08028b304  fac-03  2025-10-08T10:30:00Z  0.564   \n",
       "\n",
       "                                        0.4    0.7  0.61.1   0.63   0.83  \\\n",
       "42745f49-6912-4f80-8489-a6cef1456d7c  0.407  0.772   0.741  0.635  0.862   \n",
       "1e48e307-06fc-44fe-a10e-18c605ca46b4  0.469  0.808   0.744  0.640  0.885   \n",
       "6fabc304-e832-489d-ac31-b8fd0e419f09  0.542  0.840   0.701  0.656  0.824   \n",
       "69a6ab94-81ab-43cf-aeb7-8eca452dc126  0.488  0.709   0.698  0.605  0.835   \n",
       "86d7bcf9-56d9-429d-aacf-cbd08028b304  0.479  0.827   0.740  0.615  0.803   \n",
       "\n",
       "                                       0.64   0.54  \n",
       "42745f49-6912-4f80-8489-a6cef1456d7c  0.625  0.528  \n",
       "1e48e307-06fc-44fe-a10e-18c605ca46b4  0.689  0.502  \n",
       "6fabc304-e832-489d-ac31-b8fd0e419f09  0.673  0.536  \n",
       "69a6ab94-81ab-43cf-aeb7-8eca452dc126  0.639  0.540  \n",
       "86d7bcf9-56d9-429d-aacf-cbd08028b304  0.654  0.563  "
      ]
     },
     "metadata": {},
     "output_type": "display_data"
    },
    {
     "name": "stdout",
     "output_type": "stream",
     "text": [
      "<class 'pandas.core.frame.DataFrame'>\n",
      "Index: 220 entries, 42745f49-6912-4f80-8489-a6cef1456d7c to 36985052-f169-4ca1-8fd0-92c9124c8923\n",
      "Data columns (total 14 columns):\n",
      " #   Column                Non-Null Count  Dtype  \n",
      "---  ------                --------------  -----  \n",
      " 0   ord-0001              220 non-null    object \n",
      " 1   pat-001               220 non-null    object \n",
      " 2   32                    220 non-null    int64  \n",
      " 3   M                     220 non-null    object \n",
      " 4   fac-01                220 non-null    object \n",
      " 5   2025-10-04T10:30:00Z  220 non-null    object \n",
      " 6   0.61                  220 non-null    float64\n",
      " 7   0.4                   220 non-null    float64\n",
      " 8   0.7                   220 non-null    float64\n",
      " 9   0.61.1                220 non-null    float64\n",
      " 10  0.63                  220 non-null    float64\n",
      " 11  0.83                  220 non-null    float64\n",
      " 12  0.64                  220 non-null    float64\n",
      " 13  0.54                  220 non-null    float64\n",
      "dtypes: float64(8), int64(1), object(5)\n",
      "memory usage: 25.8+ KB\n"
     ]
    }
   ],
   "source": [
    "\n",
    "file_path = \"/home/comphortine/dev/servers/lstm/app/data/hematology_data.csv\"\n",
    "df = pd.read_csv(file_path)\n",
    "\n",
    "print(\"Shape:\", df.shape)\n",
    "display(df.head())\n",
    "\n",
    "# Optional: Basic info\n",
    "df.info()\n"
   ]
  },
  {
   "cell_type": "markdown",
   "id": "0dc871b9",
   "metadata": {},
   "source": [
    "## 🧹 Data preprocessing\n"
   ]
  },
  {
   "cell_type": "code",
   "execution_count": null,
   "id": "07e48fc2",
   "metadata": {},
   "outputs": [
    {
     "name": "stdout",
     "output_type": "stream",
     "text": [
      "Scaled shape: (220, 9)\n"
     ]
    },
    {
     "data": {
      "text/html": [
       "<div>\n",
       "<style scoped>\n",
       "    .dataframe tbody tr th:only-of-type {\n",
       "        vertical-align: middle;\n",
       "    }\n",
       "\n",
       "    .dataframe tbody tr th {\n",
       "        vertical-align: top;\n",
       "    }\n",
       "\n",
       "    .dataframe thead th {\n",
       "        text-align: right;\n",
       "    }\n",
       "</style>\n",
       "<table border=\"1\" class=\"dataframe\">\n",
       "  <thead>\n",
       "    <tr style=\"text-align: right;\">\n",
       "      <th></th>\n",
       "      <th>32</th>\n",
       "      <th>0.61</th>\n",
       "      <th>0.4</th>\n",
       "      <th>0.7</th>\n",
       "      <th>0.61.1</th>\n",
       "      <th>0.63</th>\n",
       "      <th>0.83</th>\n",
       "      <th>0.64</th>\n",
       "      <th>0.54</th>\n",
       "    </tr>\n",
       "  </thead>\n",
       "  <tbody>\n",
       "    <tr>\n",
       "      <th>0</th>\n",
       "      <td>0.384615</td>\n",
       "      <td>0.003401</td>\n",
       "      <td>0.281407</td>\n",
       "      <td>0.613065</td>\n",
       "      <td>0.955</td>\n",
       "      <td>0.357143</td>\n",
       "      <td>0.622449</td>\n",
       "      <td>0.25</td>\n",
       "      <td>0.275510</td>\n",
       "    </tr>\n",
       "    <tr>\n",
       "      <th>1</th>\n",
       "      <td>0.903846</td>\n",
       "      <td>0.023810</td>\n",
       "      <td>0.592965</td>\n",
       "      <td>0.793970</td>\n",
       "      <td>0.970</td>\n",
       "      <td>0.408163</td>\n",
       "      <td>0.857143</td>\n",
       "      <td>0.89</td>\n",
       "      <td>0.010204</td>\n",
       "    </tr>\n",
       "    <tr>\n",
       "      <th>2</th>\n",
       "      <td>0.403846</td>\n",
       "      <td>0.210884</td>\n",
       "      <td>0.959799</td>\n",
       "      <td>0.954774</td>\n",
       "      <td>0.755</td>\n",
       "      <td>0.571429</td>\n",
       "      <td>0.234694</td>\n",
       "      <td>0.73</td>\n",
       "      <td>0.357143</td>\n",
       "    </tr>\n",
       "    <tr>\n",
       "      <th>3</th>\n",
       "      <td>0.730769</td>\n",
       "      <td>0.455782</td>\n",
       "      <td>0.688442</td>\n",
       "      <td>0.296482</td>\n",
       "      <td>0.740</td>\n",
       "      <td>0.051020</td>\n",
       "      <td>0.346939</td>\n",
       "      <td>0.39</td>\n",
       "      <td>0.397959</td>\n",
       "    </tr>\n",
       "    <tr>\n",
       "      <th>4</th>\n",
       "      <td>0.576923</td>\n",
       "      <td>0.200680</td>\n",
       "      <td>0.643216</td>\n",
       "      <td>0.889447</td>\n",
       "      <td>0.950</td>\n",
       "      <td>0.153061</td>\n",
       "      <td>0.020408</td>\n",
       "      <td>0.54</td>\n",
       "      <td>0.632653</td>\n",
       "    </tr>\n",
       "  </tbody>\n",
       "</table>\n",
       "</div>"
      ],
      "text/plain": [
       "         32      0.61       0.4       0.7  0.61.1      0.63      0.83  0.64  \\\n",
       "0  0.384615  0.003401  0.281407  0.613065   0.955  0.357143  0.622449  0.25   \n",
       "1  0.903846  0.023810  0.592965  0.793970   0.970  0.408163  0.857143  0.89   \n",
       "2  0.403846  0.210884  0.959799  0.954774   0.755  0.571429  0.234694  0.73   \n",
       "3  0.730769  0.455782  0.688442  0.296482   0.740  0.051020  0.346939  0.39   \n",
       "4  0.576923  0.200680  0.643216  0.889447   0.950  0.153061  0.020408  0.54   \n",
       "\n",
       "       0.54  \n",
       "0  0.275510  \n",
       "1  0.010204  \n",
       "2  0.357143  \n",
       "3  0.397959  \n",
       "4  0.632653  "
      ]
     },
     "execution_count": 8,
     "metadata": {},
     "output_type": "execute_result"
    }
   ],
   "source": [
    "# Drop non-numeric or ID-like columns (e.g., order IDs, patient IDs, facility IDs, timestamp)\n",
    "exclude_cols = ['ord-0001', 'pat-001', 'fac-01', '2025-10-04T10:30:00Z']\n",
    "numeric_df = df.select_dtypes(include=[np.number])\n",
    "\n",
    "# Normalize the data using MinMaxScaler (0–1)\n",
    "scaler = MinMaxScaler()\n",
    "scaled_data = scaler.fit_transform(numeric_df)\n",
    "scaled_df = pd.DataFrame(scaled_data, columns=numeric_df.columns)\n",
    "\n",
    "print(\"Scaled shape:\", scaled_df.shape)\n",
    "scaled_df.head()\n"
   ]
  },
  {
   "cell_type": "markdown",
   "id": "dc0ea413",
   "metadata": {},
   "source": [
    "## 🔄 Prepare sequences for LSTM\n"
   ]
  },
  {
   "cell_type": "code",
   "execution_count": null,
   "id": "37841182",
   "metadata": {},
   "outputs": [
    {
     "name": "stdout",
     "output_type": "stream",
     "text": [
      "Shape of input data for LSTM: (215, 5, 9)\n"
     ]
    }
   ],
   "source": [
    "def create_sequences(data, sequence_length=5):\n",
    "    sequences = []\n",
    "    for i in range(len(data) - sequence_length):\n",
    "        seq = data[i:i+sequence_length]\n",
    "        sequences.append(seq)\n",
    "    return np.array(sequences)\n",
    "\n",
    "SEQ_LEN = 5\n",
    "X = create_sequences(scaled_df.values, SEQ_LEN)\n",
    "\n",
    "print(\"Shape of input data for LSTM:\", X.shape)  # (samples, timesteps, features)\n"
   ]
  },
  {
   "cell_type": "markdown",
   "id": "cbba6680",
   "metadata": {},
   "source": [
    "## 📈 Train / Test / Validation split\n"
   ]
  },
  {
   "cell_type": "code",
   "execution_count": null,
   "id": "92e93298",
   "metadata": {},
   "outputs": [
    {
     "name": "stdout",
     "output_type": "stream",
     "text": [
      "Train: (150, 5, 9), Val: (32, 5, 9), Test: (33, 5, 9)\n"
     ]
    }
   ],
   "source": [
    "X_train, X_temp = train_test_split(X, test_size=0.3, random_state=42)\n",
    "X_val, X_test = train_test_split(X_temp, test_size=0.5, random_state=42)\n",
    "\n",
    "print(f\"Train: {X_train.shape}, Val: {X_val.shape}, Test: {X_test.shape}\")\n"
   ]
  },
  {
   "cell_type": "markdown",
   "id": "2babcc23",
   "metadata": {},
   "source": [
    "## 🧠 Build LSTM Autoencoder\n"
   ]
  },
  {
   "cell_type": "code",
   "execution_count": null,
   "id": "20026347",
   "metadata": {},
   "outputs": [
    {
     "name": "stderr",
     "output_type": "stream",
     "text": [
      "2025-10-28 12:44:33.324390: E external/local_xla/xla/stream_executor/cuda/cuda_platform.cc:51] failed call to cuInit: INTERNAL: CUDA error: Failed call to cuInit: UNKNOWN ERROR (303)\n",
      "/home/comphortine/dev/servers/lstm/.venv/lib/python3.9/site-packages/keras/src/layers/rnn/rnn.py:199: UserWarning: Do not pass an `input_shape`/`input_dim` argument to a layer. When using Sequential models, prefer using an `Input(shape)` object as the first layer in the model instead.\n",
      "  super().__init__(**kwargs)\n"
     ]
    },
    {
     "data": {
      "text/html": [
       "<pre style=\"white-space:pre;overflow-x:auto;line-height:normal;font-family:Menlo,'DejaVu Sans Mono',consolas,'Courier New',monospace\"><span style=\"font-weight: bold\">Model: \"sequential\"</span>\n",
       "</pre>\n"
      ],
      "text/plain": [
       "\u001b[1mModel: \"sequential\"\u001b[0m\n"
      ]
     },
     "metadata": {},
     "output_type": "display_data"
    },
    {
     "data": {
      "text/html": [
       "<pre style=\"white-space:pre;overflow-x:auto;line-height:normal;font-family:Menlo,'DejaVu Sans Mono',consolas,'Courier New',monospace\">┏━━━━━━━━━━━━━━━━━━━━━━━━━━━━━━━━━┳━━━━━━━━━━━━━━━━━━━━━━━━┳━━━━━━━━━━━━━━━┓\n",
       "┃<span style=\"font-weight: bold\"> Layer (type)                    </span>┃<span style=\"font-weight: bold\"> Output Shape           </span>┃<span style=\"font-weight: bold\">       Param # </span>┃\n",
       "┡━━━━━━━━━━━━━━━━━━━━━━━━━━━━━━━━━╇━━━━━━━━━━━━━━━━━━━━━━━━╇━━━━━━━━━━━━━━━┩\n",
       "│ lstm (<span style=\"color: #0087ff; text-decoration-color: #0087ff\">LSTM</span>)                     │ (<span style=\"color: #00d7ff; text-decoration-color: #00d7ff\">None</span>, <span style=\"color: #00af00; text-decoration-color: #00af00\">5</span>, <span style=\"color: #00af00; text-decoration-color: #00af00\">64</span>)          │        <span style=\"color: #00af00; text-decoration-color: #00af00\">18,944</span> │\n",
       "├─────────────────────────────────┼────────────────────────┼───────────────┤\n",
       "│ lstm_1 (<span style=\"color: #0087ff; text-decoration-color: #0087ff\">LSTM</span>)                   │ (<span style=\"color: #00d7ff; text-decoration-color: #00d7ff\">None</span>, <span style=\"color: #00af00; text-decoration-color: #00af00\">32</span>)             │        <span style=\"color: #00af00; text-decoration-color: #00af00\">12,416</span> │\n",
       "├─────────────────────────────────┼────────────────────────┼───────────────┤\n",
       "│ repeat_vector (<span style=\"color: #0087ff; text-decoration-color: #0087ff\">RepeatVector</span>)    │ (<span style=\"color: #00d7ff; text-decoration-color: #00d7ff\">None</span>, <span style=\"color: #00af00; text-decoration-color: #00af00\">5</span>, <span style=\"color: #00af00; text-decoration-color: #00af00\">32</span>)          │             <span style=\"color: #00af00; text-decoration-color: #00af00\">0</span> │\n",
       "├─────────────────────────────────┼────────────────────────┼───────────────┤\n",
       "│ lstm_2 (<span style=\"color: #0087ff; text-decoration-color: #0087ff\">LSTM</span>)                   │ (<span style=\"color: #00d7ff; text-decoration-color: #00d7ff\">None</span>, <span style=\"color: #00af00; text-decoration-color: #00af00\">5</span>, <span style=\"color: #00af00; text-decoration-color: #00af00\">32</span>)          │         <span style=\"color: #00af00; text-decoration-color: #00af00\">8,320</span> │\n",
       "├─────────────────────────────────┼────────────────────────┼───────────────┤\n",
       "│ lstm_3 (<span style=\"color: #0087ff; text-decoration-color: #0087ff\">LSTM</span>)                   │ (<span style=\"color: #00d7ff; text-decoration-color: #00d7ff\">None</span>, <span style=\"color: #00af00; text-decoration-color: #00af00\">5</span>, <span style=\"color: #00af00; text-decoration-color: #00af00\">64</span>)          │        <span style=\"color: #00af00; text-decoration-color: #00af00\">24,832</span> │\n",
       "├─────────────────────────────────┼────────────────────────┼───────────────┤\n",
       "│ time_distributed                │ (<span style=\"color: #00d7ff; text-decoration-color: #00d7ff\">None</span>, <span style=\"color: #00af00; text-decoration-color: #00af00\">5</span>, <span style=\"color: #00af00; text-decoration-color: #00af00\">9</span>)           │           <span style=\"color: #00af00; text-decoration-color: #00af00\">585</span> │\n",
       "│ (<span style=\"color: #0087ff; text-decoration-color: #0087ff\">TimeDistributed</span>)               │                        │               │\n",
       "└─────────────────────────────────┴────────────────────────┴───────────────┘\n",
       "</pre>\n"
      ],
      "text/plain": [
       "┏━━━━━━━━━━━━━━━━━━━━━━━━━━━━━━━━━┳━━━━━━━━━━━━━━━━━━━━━━━━┳━━━━━━━━━━━━━━━┓\n",
       "┃\u001b[1m \u001b[0m\u001b[1mLayer (type)                   \u001b[0m\u001b[1m \u001b[0m┃\u001b[1m \u001b[0m\u001b[1mOutput Shape          \u001b[0m\u001b[1m \u001b[0m┃\u001b[1m \u001b[0m\u001b[1m      Param #\u001b[0m\u001b[1m \u001b[0m┃\n",
       "┡━━━━━━━━━━━━━━━━━━━━━━━━━━━━━━━━━╇━━━━━━━━━━━━━━━━━━━━━━━━╇━━━━━━━━━━━━━━━┩\n",
       "│ lstm (\u001b[38;5;33mLSTM\u001b[0m)                     │ (\u001b[38;5;45mNone\u001b[0m, \u001b[38;5;34m5\u001b[0m, \u001b[38;5;34m64\u001b[0m)          │        \u001b[38;5;34m18,944\u001b[0m │\n",
       "├─────────────────────────────────┼────────────────────────┼───────────────┤\n",
       "│ lstm_1 (\u001b[38;5;33mLSTM\u001b[0m)                   │ (\u001b[38;5;45mNone\u001b[0m, \u001b[38;5;34m32\u001b[0m)             │        \u001b[38;5;34m12,416\u001b[0m │\n",
       "├─────────────────────────────────┼────────────────────────┼───────────────┤\n",
       "│ repeat_vector (\u001b[38;5;33mRepeatVector\u001b[0m)    │ (\u001b[38;5;45mNone\u001b[0m, \u001b[38;5;34m5\u001b[0m, \u001b[38;5;34m32\u001b[0m)          │             \u001b[38;5;34m0\u001b[0m │\n",
       "├─────────────────────────────────┼────────────────────────┼───────────────┤\n",
       "│ lstm_2 (\u001b[38;5;33mLSTM\u001b[0m)                   │ (\u001b[38;5;45mNone\u001b[0m, \u001b[38;5;34m5\u001b[0m, \u001b[38;5;34m32\u001b[0m)          │         \u001b[38;5;34m8,320\u001b[0m │\n",
       "├─────────────────────────────────┼────────────────────────┼───────────────┤\n",
       "│ lstm_3 (\u001b[38;5;33mLSTM\u001b[0m)                   │ (\u001b[38;5;45mNone\u001b[0m, \u001b[38;5;34m5\u001b[0m, \u001b[38;5;34m64\u001b[0m)          │        \u001b[38;5;34m24,832\u001b[0m │\n",
       "├─────────────────────────────────┼────────────────────────┼───────────────┤\n",
       "│ time_distributed                │ (\u001b[38;5;45mNone\u001b[0m, \u001b[38;5;34m5\u001b[0m, \u001b[38;5;34m9\u001b[0m)           │           \u001b[38;5;34m585\u001b[0m │\n",
       "│ (\u001b[38;5;33mTimeDistributed\u001b[0m)               │                        │               │\n",
       "└─────────────────────────────────┴────────────────────────┴───────────────┘\n"
      ]
     },
     "metadata": {},
     "output_type": "display_data"
    },
    {
     "data": {
      "text/html": [
       "<pre style=\"white-space:pre;overflow-x:auto;line-height:normal;font-family:Menlo,'DejaVu Sans Mono',consolas,'Courier New',monospace\"><span style=\"font-weight: bold\"> Total params: </span><span style=\"color: #00af00; text-decoration-color: #00af00\">65,097</span> (254.29 KB)\n",
       "</pre>\n"
      ],
      "text/plain": [
       "\u001b[1m Total params: \u001b[0m\u001b[38;5;34m65,097\u001b[0m (254.29 KB)\n"
      ]
     },
     "metadata": {},
     "output_type": "display_data"
    },
    {
     "data": {
      "text/html": [
       "<pre style=\"white-space:pre;overflow-x:auto;line-height:normal;font-family:Menlo,'DejaVu Sans Mono',consolas,'Courier New',monospace\"><span style=\"font-weight: bold\"> Trainable params: </span><span style=\"color: #00af00; text-decoration-color: #00af00\">65,097</span> (254.29 KB)\n",
       "</pre>\n"
      ],
      "text/plain": [
       "\u001b[1m Trainable params: \u001b[0m\u001b[38;5;34m65,097\u001b[0m (254.29 KB)\n"
      ]
     },
     "metadata": {},
     "output_type": "display_data"
    },
    {
     "data": {
      "text/html": [
       "<pre style=\"white-space:pre;overflow-x:auto;line-height:normal;font-family:Menlo,'DejaVu Sans Mono',consolas,'Courier New',monospace\"><span style=\"font-weight: bold\"> Non-trainable params: </span><span style=\"color: #00af00; text-decoration-color: #00af00\">0</span> (0.00 B)\n",
       "</pre>\n"
      ],
      "text/plain": [
       "\u001b[1m Non-trainable params: \u001b[0m\u001b[38;5;34m0\u001b[0m (0.00 B)\n"
      ]
     },
     "metadata": {},
     "output_type": "display_data"
    }
   ],
   "source": [
    "timesteps = X_train.shape[1]\n",
    "n_features = X_train.shape[2]\n",
    "\n",
    "model = models.Sequential([\n",
    "    # Encoder\n",
    "    layers.LSTM(64, activation='relu', input_shape=(timesteps, n_features), return_sequences=True),\n",
    "    layers.LSTM(32, activation='relu', return_sequences=False),\n",
    "    \n",
    "    # Bottleneck\n",
    "    layers.RepeatVector(timesteps),\n",
    "    \n",
    "    # Decoder\n",
    "    layers.LSTM(32, activation='relu', return_sequences=True),\n",
    "    layers.LSTM(64, activation='relu', return_sequences=True),\n",
    "    layers.TimeDistributed(layers.Dense(n_features))\n",
    "])\n",
    "\n",
    "model.compile(optimizer='adam', loss='mse')\n",
    "model.summary()\n"
   ]
  },
  {
   "cell_type": "markdown",
   "id": "3b07da69",
   "metadata": {},
   "source": [
    "## 🚀 Train LSTM Autoencoder\n"
   ]
  },
  {
   "cell_type": "code",
   "execution_count": null,
   "id": "96bcf036",
   "metadata": {},
   "outputs": [
    {
     "name": "stdout",
     "output_type": "stream",
     "text": [
      "Epoch 1/50\n",
      "\u001b[1m10/10\u001b[0m \u001b[32m━━━━━━━━━━━━━━━━━━━━\u001b[0m\u001b[37m\u001b[0m \u001b[1m14s\u001b[0m 178ms/step - loss: 0.3268 - val_loss: 0.2920\n",
      "Epoch 2/50\n",
      "\u001b[1m10/10\u001b[0m \u001b[32m━━━━━━━━━━━━━━━━━━━━\u001b[0m\u001b[37m\u001b[0m \u001b[1m1s\u001b[0m 46ms/step - loss: 0.3049 - val_loss: 0.2663\n",
      "Epoch 3/50\n",
      "\u001b[1m10/10\u001b[0m \u001b[32m━━━━━━━━━━━━━━━━━━━━\u001b[0m\u001b[37m\u001b[0m \u001b[1m0s\u001b[0m 39ms/step - loss: 0.2686 - val_loss: 0.1999\n",
      "Epoch 4/50\n",
      "\u001b[1m10/10\u001b[0m \u001b[32m━━━━━━━━━━━━━━━━━━━━\u001b[0m\u001b[37m\u001b[0m \u001b[1m1s\u001b[0m 55ms/step - loss: 0.1926 - val_loss: 0.1535\n",
      "Epoch 5/50\n",
      "\u001b[1m10/10\u001b[0m \u001b[32m━━━━━━━━━━━━━━━━━━━━\u001b[0m\u001b[37m\u001b[0m \u001b[1m0s\u001b[0m 41ms/step - loss: 0.1588 - val_loss: 0.1379\n",
      "Epoch 6/50\n",
      "\u001b[1m10/10\u001b[0m \u001b[32m━━━━━━━━━━━━━━━━━━━━\u001b[0m\u001b[37m\u001b[0m \u001b[1m1s\u001b[0m 48ms/step - loss: 0.1455 - val_loss: 0.1302\n",
      "Epoch 7/50\n",
      "\u001b[1m10/10\u001b[0m \u001b[32m━━━━━━━━━━━━━━━━━━━━\u001b[0m\u001b[37m\u001b[0m \u001b[1m0s\u001b[0m 41ms/step - loss: 0.1348 - val_loss: 0.1217\n",
      "Epoch 8/50\n",
      "\u001b[1m10/10\u001b[0m \u001b[32m━━━━━━━━━━━━━━━━━━━━\u001b[0m\u001b[37m\u001b[0m \u001b[1m1s\u001b[0m 67ms/step - loss: 0.1248 - val_loss: 0.1099\n",
      "Epoch 9/50\n",
      "\u001b[1m10/10\u001b[0m \u001b[32m━━━━━━━━━━━━━━━━━━━━\u001b[0m\u001b[37m\u001b[0m \u001b[1m0s\u001b[0m 36ms/step - loss: 0.1114 - val_loss: 0.0908\n",
      "Epoch 10/50\n",
      "\u001b[1m10/10\u001b[0m \u001b[32m━━━━━━━━━━━━━━━━━━━━\u001b[0m\u001b[37m\u001b[0m \u001b[1m0s\u001b[0m 35ms/step - loss: 0.0968 - val_loss: 0.0861\n",
      "Epoch 11/50\n",
      "\u001b[1m10/10\u001b[0m \u001b[32m━━━━━━━━━━━━━━━━━━━━\u001b[0m\u001b[37m\u001b[0m \u001b[1m0s\u001b[0m 32ms/step - loss: 0.0883 - val_loss: 0.0828\n",
      "Epoch 12/50\n",
      "\u001b[1m10/10\u001b[0m \u001b[32m━━━━━━━━━━━━━━━━━━━━\u001b[0m\u001b[37m\u001b[0m \u001b[1m0s\u001b[0m 36ms/step - loss: 0.0841 - val_loss: 0.0823\n",
      "Epoch 13/50\n",
      "\u001b[1m10/10\u001b[0m \u001b[32m━━━━━━━━━━━━━━━━━━━━\u001b[0m\u001b[37m\u001b[0m \u001b[1m1s\u001b[0m 50ms/step - loss: 0.0826 - val_loss: 0.0826\n",
      "Epoch 14/50\n",
      "\u001b[1m10/10\u001b[0m \u001b[32m━━━━━━━━━━━━━━━━━━━━\u001b[0m\u001b[37m\u001b[0m \u001b[1m1s\u001b[0m 47ms/step - loss: 0.0831 - val_loss: 0.0823\n",
      "Epoch 15/50\n",
      "\u001b[1m10/10\u001b[0m \u001b[32m━━━━━━━━━━━━━━━━━━━━\u001b[0m\u001b[37m\u001b[0m \u001b[1m1s\u001b[0m 46ms/step - loss: 0.0820 - val_loss: 0.0823\n",
      "Epoch 16/50\n",
      "\u001b[1m10/10\u001b[0m \u001b[32m━━━━━━━━━━━━━━━━━━━━\u001b[0m\u001b[37m\u001b[0m \u001b[1m1s\u001b[0m 45ms/step - loss: 0.0831 - val_loss: 0.0827\n",
      "Epoch 17/50\n",
      "\u001b[1m10/10\u001b[0m \u001b[32m━━━━━━━━━━━━━━━━━━━━\u001b[0m\u001b[37m\u001b[0m \u001b[1m1s\u001b[0m 51ms/step - loss: 0.0820 - val_loss: 0.0823\n",
      "Epoch 18/50\n",
      "\u001b[1m10/10\u001b[0m \u001b[32m━━━━━━━━━━━━━━━━━━━━\u001b[0m\u001b[37m\u001b[0m \u001b[1m0s\u001b[0m 43ms/step - loss: 0.0821 - val_loss: 0.0822\n",
      "Epoch 19/50\n",
      "\u001b[1m10/10\u001b[0m \u001b[32m━━━━━━━━━━━━━━━━━━━━\u001b[0m\u001b[37m\u001b[0m \u001b[1m1s\u001b[0m 53ms/step - loss: 0.0818 - val_loss: 0.0820\n",
      "Epoch 20/50\n",
      "\u001b[1m10/10\u001b[0m \u001b[32m━━━━━━━━━━━━━━━━━━━━\u001b[0m\u001b[37m\u001b[0m \u001b[1m1s\u001b[0m 68ms/step - loss: 0.0814 - val_loss: 0.0824\n",
      "Epoch 21/50\n",
      "\u001b[1m10/10\u001b[0m \u001b[32m━━━━━━━━━━━━━━━━━━━━\u001b[0m\u001b[37m\u001b[0m \u001b[1m1s\u001b[0m 43ms/step - loss: 0.0825 - val_loss: 0.0819\n",
      "Epoch 22/50\n",
      "\u001b[1m10/10\u001b[0m \u001b[32m━━━━━━━━━━━━━━━━━━━━\u001b[0m\u001b[37m\u001b[0m \u001b[1m0s\u001b[0m 32ms/step - loss: 0.0818 - val_loss: 0.0816\n",
      "Epoch 23/50\n",
      "\u001b[1m10/10\u001b[0m \u001b[32m━━━━━━━━━━━━━━━━━━━━\u001b[0m\u001b[37m\u001b[0m \u001b[1m0s\u001b[0m 32ms/step - loss: 0.0821 - val_loss: 0.0817\n",
      "Epoch 24/50\n",
      "\u001b[1m10/10\u001b[0m \u001b[32m━━━━━━━━━━━━━━━━━━━━\u001b[0m\u001b[37m\u001b[0m \u001b[1m0s\u001b[0m 31ms/step - loss: 0.0811 - val_loss: 0.0814\n",
      "Epoch 25/50\n",
      "\u001b[1m10/10\u001b[0m \u001b[32m━━━━━━━━━━━━━━━━━━━━\u001b[0m\u001b[37m\u001b[0m \u001b[1m0s\u001b[0m 35ms/step - loss: 0.0802 - val_loss: 0.0815\n",
      "Epoch 26/50\n",
      "\u001b[1m10/10\u001b[0m \u001b[32m━━━━━━━━━━━━━━━━━━━━\u001b[0m\u001b[37m\u001b[0m \u001b[1m1s\u001b[0m 50ms/step - loss: 0.0806 - val_loss: 0.0805\n",
      "Epoch 27/50\n",
      "\u001b[1m10/10\u001b[0m \u001b[32m━━━━━━━━━━━━━━━━━━━━\u001b[0m\u001b[37m\u001b[0m \u001b[1m1s\u001b[0m 61ms/step - loss: 0.0800 - val_loss: 0.0795\n",
      "Epoch 28/50\n",
      "\u001b[1m10/10\u001b[0m \u001b[32m━━━━━━━━━━━━━━━━━━━━\u001b[0m\u001b[37m\u001b[0m \u001b[1m0s\u001b[0m 45ms/step - loss: 0.0789 - val_loss: 0.0790\n",
      "Epoch 29/50\n",
      "\u001b[1m10/10\u001b[0m \u001b[32m━━━━━━━━━━━━━━━━━━━━\u001b[0m\u001b[37m\u001b[0m \u001b[1m0s\u001b[0m 45ms/step - loss: 0.0763 - val_loss: 0.0782\n",
      "Epoch 30/50\n",
      "\u001b[1m10/10\u001b[0m \u001b[32m━━━━━━━━━━━━━━━━━━━━\u001b[0m\u001b[37m\u001b[0m \u001b[1m0s\u001b[0m 43ms/step - loss: 0.0765 - val_loss: 0.0781\n",
      "Epoch 31/50\n",
      "\u001b[1m10/10\u001b[0m \u001b[32m━━━━━━━━━━━━━━━━━━━━\u001b[0m\u001b[37m\u001b[0m \u001b[1m1s\u001b[0m 85ms/step - loss: 0.0767 - val_loss: 0.0773\n",
      "Epoch 32/50\n",
      "\u001b[1m10/10\u001b[0m \u001b[32m━━━━━━━━━━━━━━━━━━━━\u001b[0m\u001b[37m\u001b[0m \u001b[1m0s\u001b[0m 39ms/step - loss: 0.0759 - val_loss: 0.0777\n",
      "Epoch 33/50\n",
      "\u001b[1m10/10\u001b[0m \u001b[32m━━━━━━━━━━━━━━━━━━━━\u001b[0m\u001b[37m\u001b[0m \u001b[1m0s\u001b[0m 36ms/step - loss: 0.0756 - val_loss: 0.0767\n",
      "Epoch 34/50\n",
      "\u001b[1m10/10\u001b[0m \u001b[32m━━━━━━━━━━━━━━━━━━━━\u001b[0m\u001b[37m\u001b[0m \u001b[1m0s\u001b[0m 30ms/step - loss: 0.0760 - val_loss: 0.0768\n",
      "Epoch 35/50\n",
      "\u001b[1m10/10\u001b[0m \u001b[32m━━━━━━━━━━━━━━━━━━━━\u001b[0m\u001b[37m\u001b[0m \u001b[1m0s\u001b[0m 37ms/step - loss: 0.0742 - val_loss: 0.0766\n",
      "Epoch 36/50\n",
      "\u001b[1m10/10\u001b[0m \u001b[32m━━━━━━━━━━━━━━━━━━━━\u001b[0m\u001b[37m\u001b[0m \u001b[1m0s\u001b[0m 47ms/step - loss: 0.0746 - val_loss: 0.0762\n",
      "Epoch 37/50\n",
      "\u001b[1m10/10\u001b[0m \u001b[32m━━━━━━━━━━━━━━━━━━━━\u001b[0m\u001b[37m\u001b[0m \u001b[1m0s\u001b[0m 30ms/step - loss: 0.0735 - val_loss: 0.0762\n",
      "Epoch 38/50\n",
      "\u001b[1m10/10\u001b[0m \u001b[32m━━━━━━━━━━━━━━━━━━━━\u001b[0m\u001b[37m\u001b[0m \u001b[1m0s\u001b[0m 29ms/step - loss: 0.0748 - val_loss: 0.0762\n",
      "Epoch 39/50\n",
      "\u001b[1m10/10\u001b[0m \u001b[32m━━━━━━━━━━━━━━━━━━━━\u001b[0m\u001b[37m\u001b[0m \u001b[1m0s\u001b[0m 31ms/step - loss: 0.0746 - val_loss: 0.0757\n",
      "Epoch 40/50\n",
      "\u001b[1m10/10\u001b[0m \u001b[32m━━━━━━━━━━━━━━━━━━━━\u001b[0m\u001b[37m\u001b[0m \u001b[1m0s\u001b[0m 34ms/step - loss: 0.0730 - val_loss: 0.0756\n",
      "Epoch 41/50\n",
      "\u001b[1m10/10\u001b[0m \u001b[32m━━━━━━━━━━━━━━━━━━━━\u001b[0m\u001b[37m\u001b[0m \u001b[1m1s\u001b[0m 47ms/step - loss: 0.0736 - val_loss: 0.0751\n",
      "Epoch 42/50\n",
      "\u001b[1m10/10\u001b[0m \u001b[32m━━━━━━━━━━━━━━━━━━━━\u001b[0m\u001b[37m\u001b[0m \u001b[1m1s\u001b[0m 52ms/step - loss: 0.0725 - val_loss: 0.0751\n",
      "Epoch 43/50\n",
      "\u001b[1m10/10\u001b[0m \u001b[32m━━━━━━━━━━━━━━━━━━━━\u001b[0m\u001b[37m\u001b[0m \u001b[1m1s\u001b[0m 49ms/step - loss: 0.0726 - val_loss: 0.0752\n",
      "Epoch 44/50\n",
      "\u001b[1m10/10\u001b[0m \u001b[32m━━━━━━━━━━━━━━━━━━━━\u001b[0m\u001b[37m\u001b[0m \u001b[1m1s\u001b[0m 46ms/step - loss: 0.0725 - val_loss: 0.0746\n",
      "Epoch 45/50\n",
      "\u001b[1m10/10\u001b[0m \u001b[32m━━━━━━━━━━━━━━━━━━━━\u001b[0m\u001b[37m\u001b[0m \u001b[1m1s\u001b[0m 48ms/step - loss: 0.0716 - val_loss: 0.0741\n",
      "Epoch 46/50\n",
      "\u001b[1m10/10\u001b[0m \u001b[32m━━━━━━━━━━━━━━━━━━━━\u001b[0m\u001b[37m\u001b[0m \u001b[1m1s\u001b[0m 52ms/step - loss: 0.0708 - val_loss: 0.0739\n",
      "Epoch 47/50\n",
      "\u001b[1m10/10\u001b[0m \u001b[32m━━━━━━━━━━━━━━━━━━━━\u001b[0m\u001b[37m\u001b[0m \u001b[1m1s\u001b[0m 49ms/step - loss: 0.0712 - val_loss: 0.0739\n",
      "Epoch 48/50\n",
      "\u001b[1m10/10\u001b[0m \u001b[32m━━━━━━━━━━━━━━━━━━━━\u001b[0m\u001b[37m\u001b[0m \u001b[1m1s\u001b[0m 46ms/step - loss: 0.0723 - val_loss: 0.0736\n",
      "Epoch 49/50\n",
      "\u001b[1m10/10\u001b[0m \u001b[32m━━━━━━━━━━━━━━━━━━━━\u001b[0m\u001b[37m\u001b[0m \u001b[1m0s\u001b[0m 41ms/step - loss: 0.0701 - val_loss: 0.0734\n",
      "Epoch 50/50\n",
      "\u001b[1m10/10\u001b[0m \u001b[32m━━━━━━━━━━━━━━━━━━━━\u001b[0m\u001b[37m\u001b[0m \u001b[1m1s\u001b[0m 47ms/step - loss: 0.0703 - val_loss: 0.0733\n"
     ]
    }
   ],
   "source": [
    "EPOCHS = 50\n",
    "BATCH_SIZE = 16\n",
    "\n",
    "history = model.fit(\n",
    "    X_train, X_train,\n",
    "    epochs=EPOCHS,\n",
    "    batch_size=BATCH_SIZE,\n",
    "    validation_data=(X_val, X_val),\n",
    "    shuffle=True\n",
    ")\n"
   ]
  },
  {
   "cell_type": "markdown",
   "id": "3e7e20ca",
   "metadata": {},
   "source": [
    "## 📉 Plot training and validation loss\n"
   ]
  },
  {
   "cell_type": "code",
   "execution_count": null,
   "id": "7880d9e9",
   "metadata": {},
   "outputs": [
    {
     "data": {
      "image/png": "[encoded data removed]",
      "text/plain": [
       "<Figure size 800x500 with 1 Axes>"
      ]
     },
     "metadata": {},
     "output_type": "display_data"
    }
   ],
   "source": [
    "plt.figure(figsize=(8,5))\n",
    "plt.plot(history.history['loss'], label='Training Loss')\n",
    "plt.plot(history.history['val_loss'], label='Validation Loss')\n",
    "plt.title(\"Training vs Validation Loss\")\n",
    "plt.xlabel(\"Epochs\")\n",
    "plt.ylabel(\"Loss (MSE)\")\n",
    "plt.legend()\n",
    "plt.show()\n"
   ]
  },
  {
   "cell_type": "markdown",
   "id": "b4b4196a",
   "metadata": {},
   "source": [
    "## 🧪 Evaluate model on test set\n"
   ]
  },
  {
   "cell_type": "code",
   "execution_count": null,
   "id": "542f0deb",
   "metadata": {},
   "outputs": [
    {
     "name": "stdout",
     "output_type": "stream",
     "text": [
      "\u001b[1m2/2\u001b[0m \u001b[32m━━━━━━━━━━━━━━━━━━━━\u001b[0m\u001b[37m\u001b[0m \u001b[1m2s\u001b[0m 1s/step\n"
     ]
    },
    {
     "data": {
      "image/png": "[encoded data removed]",
      "text/plain": [
       "<Figure size 640x480 with 1 Axes>"
      ]
     },
     "metadata": {},
     "output_type": "display_data"
    },
    {
     "name": "stdout",
     "output_type": "stream",
     "text": [
      "Reconstruction error threshold: 0.09156\n"
     ]
    }
   ],
   "source": [
    "X_pred = model.predict(X_test)\n",
    "test_mse = np.mean(np.power(X_test - X_pred, 2), axis=(1,2))\n",
    "\n",
    "sns.histplot(test_mse, bins=30, kde=True)\n",
    "plt.title(\"Test Reconstruction Error Distribution\")\n",
    "plt.show()\n",
    "\n",
    "threshold = np.percentile(test_mse, 95)\n",
    "print(f\"Reconstruction error threshold: {threshold:.5f}\")\n"
   ]
  },
  {
   "cell_type": "markdown",
   "id": "ea045893",
   "metadata": {},
   "source": [
    "## ⚠️ Detect anomalies (CBC outliers)\n"
   ]
  },
  {
   "cell_type": "code",
   "execution_count": null,
   "id": "4fd95ce7",
   "metadata": {},
   "outputs": [
    {
     "name": "stdout",
     "output_type": "stream",
     "text": [
      "Detected 2 anomalies out of 33 samples.\n"
     ]
    },
    {
     "data": {
      "image/png": "[encoded data removed]",
      "text/plain": [
       "<Figure size 640x480 with 1 Axes>"
      ]
     },
     "metadata": {},
     "output_type": "display_data"
    }
   ],
   "source": [
    "anomalies = test_mse > threshold\n",
    "print(f\"Detected {np.sum(anomalies)} anomalies out of {len(anomalies)} samples.\")\n",
    "\n",
    "# Show example reconstruction\n",
    "idx = np.random.randint(0, len(X_test))\n",
    "plt.plot(X_test[idx].flatten(), label='Original')\n",
    "plt.plot(X_pred[idx].flatten(), label='Reconstructed')\n",
    "plt.legend()\n",
    "plt.title(f\"Example Reconstruction | Anomaly: {anomalies[idx]}\")\n",
    "plt.show()\n"
   ]
  },
  {
   "cell_type": "markdown",
   "id": "0f5cf565",
   "metadata": {},
   "source": [
    "## 💾 Save trained model and scaler\n"
   ]
  },
  {
   "cell_type": "code",
   "execution_count": null,
   "id": "21850d5b",
   "metadata": {},
   "outputs": [
    {
     "name": "stdout",
     "output_type": "stream",
     "text": [
      "✅ Model and scaler saved successfully.\n"
     ]
    }
   ],
   "source": [
    "model.save(\"/home/comphortine/dev/servers/lstm/app/models/lstm_cbc_autoencoder.keras\")\n",
    "\n",
    "import joblib\n",
    "joblib.dump(scaler, \"/home/comphortine/dev/servers/lstm/app/models/cbc_scaler.pkl\")\n",
    "\n",
    "print(\"✅ Model and scaler saved successfully.\")\n"
   ]
  }
 ],
 "metadata": {
  "kernelspec": {
   "display_name": "lstm (3.9.12)",
   "language": "python",
   "name": "python3"
  },
  "language_info": {
   "codemirror_mode": {
    "name": "ipython",
    "version": 3
   },
   "file_extension": ".py",
   "mimetype": "text/x-python",
   "name": "python",
   "nbconvert_exporter": "python",
   "pygments_lexer": "ipython3",
   "version": "3.9.12"
  }
 },
 "nbformat": 4,
 "nbformat_minor": 5
}
